{
 "cells": [
  {
   "cell_type": "code",
   "execution_count": 2,
   "id": "f25e071a-703b-47ab-b217-8d8b348a9a02",
   "metadata": {},
   "outputs": [
    {
     "data": {
      "text/plain": [
       "defined \u001b[32mfunction\u001b[39m \u001b[36mquadraticFunction\u001b[39m\r\n",
       "defined \u001b[32mfunction\u001b[39m \u001b[36mderivative\u001b[39m"
      ]
     },
     "execution_count": 2,
     "metadata": {},
     "output_type": "execute_result"
    }
   ],
   "source": [
    "// Define the quadratic function f(x) = ax^2 + bx + c\n",
    "def quadraticFunction(a: Double, b: Double, c: Double, x: Double): Double = {\n",
    "  a * x * x + b * x + c\n",
    "}\n",
    "\n",
    "// Compute the derivative of the quadratic function\n",
    "def derivative(a: Double, b: Double, x: Double): Double = {\n",
    "  2 * a * x + b\n",
    "}"
   ]
  },
  {
   "cell_type": "code",
   "execution_count": 3,
   "id": "3780908b-ec66-4b23-8453-b6f7930d9971",
   "metadata": {},
   "outputs": [
    {
     "data": {
      "text/plain": [
       "\u001b[32mimport \u001b[39m\u001b[36mscala.math._ // Import math functions\n",
       "\n",
       "// Perform gradient descent to find the minimum\n",
       "\u001b[39m\r\n",
       "defined \u001b[32mfunction\u001b[39m \u001b[36mgradientDescent\u001b[39m"
      ]
     },
     "execution_count": 3,
     "metadata": {},
     "output_type": "execute_result"
    }
   ],
   "source": [
    "import scala.math._ // Import math functions\n",
    "\n",
    "// Perform gradient descent to find the minimum\n",
    "def gradientDescent(a: Double, b: Double, c: Double, learningRate: Double, tolerance: Double, maxIterations: Int): Double = {\n",
    "  var x = 0.0 // Starting point\n",
    "  var iteration = 0\n",
    "  var gradient = derivative(a, b, x)\n",
    "\n",
    "  while (abs(gradient) > tolerance && iteration < maxIterations) { // Use scala.math.abs\n",
    "    x = x - learningRate * gradient\n",
    "    gradient = derivative(a, b, x)\n",
    "    iteration += 1\n",
    "  }\n",
    "\n",
    "  x\n",
    "}"
   ]
  },
  {
   "cell_type": "code",
   "execution_count": 4,
   "id": "49c96902-89df-4743-9d11-73be7c529103",
   "metadata": {},
   "outputs": [
    {
     "name": "stdout",
     "output_type": "stream",
     "text": [
      "The minimum is at x = 1.4999995179185865\n"
     ]
    },
    {
     "data": {
      "text/plain": [
       "\u001b[36ma\u001b[39m: \u001b[32mDouble\u001b[39m = \u001b[32m1.0\u001b[39m\r\n",
       "\u001b[36mb\u001b[39m: \u001b[32mDouble\u001b[39m = \u001b[32m-3.0\u001b[39m\r\n",
       "\u001b[36mc\u001b[39m: \u001b[32mDouble\u001b[39m = \u001b[32m2.0\u001b[39m\r\n",
       "\u001b[36mlearningRate\u001b[39m: \u001b[32mDouble\u001b[39m = \u001b[32m0.1\u001b[39m\r\n",
       "\u001b[36mtolerance\u001b[39m: \u001b[32mDouble\u001b[39m = \u001b[32m1.0E-6\u001b[39m\r\n",
       "\u001b[36mmaxIterations\u001b[39m: \u001b[32mInt\u001b[39m = \u001b[32m1000\u001b[39m\r\n",
       "\u001b[36mminimumX\u001b[39m: \u001b[32mDouble\u001b[39m = \u001b[32m1.4999995179185865\u001b[39m"
      ]
     },
     "execution_count": 4,
     "metadata": {},
     "output_type": "execute_result"
    }
   ],
   "source": [
    "// Parameters for the quadratic function f(x) = x^2 - 3x + 2\n",
    "val a = 1.0\n",
    "val b = -3.0\n",
    "val c = 2.0\n",
    "\n",
    "// Parameters for gradient descent\n",
    "val learningRate = 0.1\n",
    "val tolerance = 1e-6\n",
    "val maxIterations = 1000\n",
    "\n",
    "// Find the minimum\n",
    "val minimumX = gradientDescent(a, b, c, learningRate, tolerance, maxIterations)\n",
    "println(s\"The minimum is at x = $minimumX\")"
   ]
  },
  {
   "cell_type": "code",
   "execution_count": null,
   "id": "7dd31adf-6a85-4128-8297-116c7e253c45",
   "metadata": {},
   "outputs": [],
   "source": []
  }
 ],
 "metadata": {
  "kernelspec": {
   "display_name": "Scala (Portable)",
   "language": "scala",
   "name": "scala"
  },
  "language_info": {
   "codemirror_mode": "text/x-scala",
   "file_extension": ".sc",
   "mimetype": "text/x-scala",
   "name": "scala",
   "nbconvert_exporter": "script",
   "version": "2.13.14"
  }
 },
 "nbformat": 4,
 "nbformat_minor": 5
}
